{
 "cells": [
  {
   "cell_type": "markdown",
   "metadata": {},
   "source": [
    "# 华为手机抢购万能模板！！！"
   ]
  },
  {
   "cell_type": "markdown",
   "metadata": {},
   "source": [
    "Chromedriver所有版本下载链接：\n",
    "https://chromedriver.storage.googleapis.com/index.html"
   ]
  },
  {
   "cell_type": "code",
   "execution_count": 1,
   "metadata": {},
   "outputs": [],
   "source": [
    "import numpy as np\n",
    "import pandas as pd\n",
    "import datetime\n",
    "\n",
    "from selenium import webdriver\n",
    "from selenium.webdriver.common.by import By\n",
    "from selenium.webdriver.common.keys import Keys\n",
    "from selenium.webdriver.common.action_chains import ActionChains\n",
    "import time\n",
    "import re"
   ]
  },
  {
   "cell_type": "markdown",
   "metadata": {},
   "source": [
    "## 打开华为商城，并登录"
   ]
  },
  {
   "cell_type": "code",
   "execution_count": 2,
   "metadata": {},
   "outputs": [],
   "source": [
    "# 设定全局变量\n",
    "driver = webdriver.Chrome()\n",
    "url = \"https://www.vmall.com/index.html\"\n",
    "driver.get(url)\n",
    "# browser.maximize_window() #窗口最大化"
   ]
  },
  {
   "cell_type": "markdown",
   "metadata": {},
   "source": [
    "=========【这里可以手动输入账号密码直接登录】========"
   ]
  },
  {
   "cell_type": "markdown",
   "metadata": {},
   "source": [
    "============【也可以选择运行下方代码登录】=============="
   ]
  },
  {
   "cell_type": "code",
   "execution_count": 4,
   "metadata": {},
   "outputs": [],
   "source": [
    "# 点击“请登录”，进入登录页\n",
    "driver.find_element(By.XPATH, '//div[@class=\"css-901oao r-1a7l8x0 r-1enofrn r-ueyrd6 r-1pn2ns4 r-gy4na3\"]').click()"
   ]
  },
  {
   "cell_type": "code",
   "execution_count": 5,
   "metadata": {},
   "outputs": [],
   "source": [
    "count = \"输入你的用户名\"\n",
    "pwd = \"输入你的密码\""
   ]
  },
  {
   "cell_type": "code",
   "execution_count": 7,
   "metadata": {},
   "outputs": [],
   "source": [
    "# 输入用户名和密码\n",
    "username_input = driver.find_element(By.XPATH,'//div/input[@class=\"hwid-input userAccount\"]')\n",
    "password_input = driver.find_element(By.XPATH,'//div/input[@class=\"hwid-input hwid-input-pwd\"]')\n",
    "username_input.send_keys(count)\n",
    "password_input.send_keys(pwd)"
   ]
  },
  {
   "cell_type": "code",
   "execution_count": 8,
   "metadata": {},
   "outputs": [],
   "source": [
    "# 点击登录\n",
    "driver.find_element(By.XPATH, '//div[@class=\"button-base-box\"]').click()\n",
    "\n",
    "# 需要验证，按照流程验证即可"
   ]
  },
  {
   "cell_type": "markdown",
   "metadata": {
    "tags": []
   },
   "source": [
    " ##### ===================【以下代码测试用】==================="
   ]
  },
  {
   "cell_type": "code",
   "execution_count": 9,
   "metadata": {},
   "outputs": [],
   "source": [
    "# 选择一款手机进行测试\n",
    "url = \"https://www.vmall.com/product/10086488402232.html\"\n",
    "driver.get(url)\n",
    "\n",
    "# 选择想要的商品及型号\n",
    "driver.find_element(By.XPATH, '//dl[@class=\"product-choose clearfix  product-choosepic\"]/div/ul/li[2]').click()\n",
    "driver.find_element(By.XPATH, '//dl[@class=\"product-choose clearfix \"]/div/ul/li[1]').click()"
   ]
  },
  {
   "cell_type": "code",
   "execution_count": 9,
   "metadata": {},
   "outputs": [],
   "source": [
    "# 点击下单方式一：\n",
    "driver.find_element(By.XPATH, '//div[@class=\"product-buttonmain\"]/div/a[@class=\"product-button02 product-agreement-style\"]').click()"
   ]
  },
  {
   "cell_type": "code",
   "execution_count": 10,
   "metadata": {},
   "outputs": [],
   "source": [
    "# 点击下单方式二：\n",
    "button = driver.find_element(By.XPATH, '//div[@class=\"product-buttonmain\"]/div/a[@class=\"product-button02 product-agreement-style\"]')\n",
    "driver.execute_script(\"arguments[0].click();\", button)"
   ]
  },
  {
   "cell_type": "markdown",
   "metadata": {},
   "source": [
    "===================【测试结束】==================="
   ]
  },
  {
   "cell_type": "markdown",
   "metadata": {},
   "source": [
    "## 开始抢Mate60pro+啦！！！"
   ]
  },
  {
   "cell_type": "code",
   "execution_count": 11,
   "metadata": {
    "tags": []
   },
   "outputs": [],
   "source": [
    "# 打开Mate60pro+抢购页面\n",
    "url = \"https://www.vmall.com/product/10086764961298.html\"\n",
    "driver.get(url)"
   ]
  },
  {
   "cell_type": "code",
   "execution_count": 12,
   "metadata": {
    "tags": []
   },
   "outputs": [],
   "source": [
    "# 选择想要的商品及型号\n",
    "driver.find_element(By.XPATH, '//dl[@class=\"product-choose clearfix  product-choosepic\"]/div/ul/li[2]').click()\n",
    "driver.find_element(By.XPATH, '//dl[@class=\"product-choose clearfix \"]/div/ul/li[1]').click()"
   ]
  },
  {
   "cell_type": "code",
   "execution_count": 13,
   "metadata": {
    "tags": []
   },
   "outputs": [],
   "source": [
    "# 抢购时间\n",
    "times = \"2023-09-18 10:08:00\""
   ]
  },
  {
   "cell_type": "code",
   "execution_count": 14,
   "metadata": {},
   "outputs": [
    {
     "data": {
      "text/plain": [
       "<selenium.webdriver.remote.webelement.WebElement (session=\"cbbcdc3d6b3e625d0ea9750c34b2b235\", element=\"1B58CD7A96D7E9E2BF3588B697055533_element_1050\")>"
      ]
     },
     "execution_count": 14,
     "metadata": {},
     "output_type": "execute_result"
    }
   ],
   "source": [
    "# 找到抢购按钮\n",
    "driver.find_element(By.XPATH, '//div[@class=\"product-buttonmain\"]/div/span')"
   ]
  },
  {
   "cell_type": "code",
   "execution_count": 15,
   "metadata": {
    "collapsed": true,
    "jupyter": {
     "outputs_hidden": true
    },
    "tags": []
   },
   "outputs": [
    {
     "ename": "ElementNotInteractableException",
     "evalue": "Message: element not interactable\n  (Session info: chrome=117.0.5938.89)\nStacktrace:\n\tGetHandleVerifier [0x00007FF7CBFC78A2+54818]\n\t(No symbol) [0x00007FF7CBF36AD2]\n\t(No symbol) [0x00007FF7CBDED8ED]\n\t(No symbol) [0x00007FF7CBE2F8E5]\n\t(No symbol) [0x00007FF7CBE2571F]\n\t(No symbol) [0x00007FF7CBE4EAAA]\n\t(No symbol) [0x00007FF7CBE25036]\n\t(No symbol) [0x00007FF7CBE4ECC0]\n\t(No symbol) [0x00007FF7CBE675A2]\n\t(No symbol) [0x00007FF7CBE4E883]\n\t(No symbol) [0x00007FF7CBE23691]\n\t(No symbol) [0x00007FF7CBE248D4]\n\tGetHandleVerifier [0x00007FF7CC32B9A2+3610402]\n\tGetHandleVerifier [0x00007FF7CC381870+3962352]\n\tGetHandleVerifier [0x00007FF7CC379D5F+3930847]\n\tGetHandleVerifier [0x00007FF7CC063656+693206]\n\t(No symbol) [0x00007FF7CBF41638]\n\t(No symbol) [0x00007FF7CBF3D944]\n\t(No symbol) [0x00007FF7CBF3DA72]\n\t(No symbol) [0x00007FF7CBF2E123]\n\tBaseThreadInitThunk [0x00007FFD61547344+20]\n\tRtlUserThreadStart [0x00007FFD627A26B1+33]\n",
     "output_type": "error",
     "traceback": [
      "\u001b[1;31m---------------------------------------------------------------------------\u001b[0m",
      "\u001b[1;31mElementNotInteractableException\u001b[0m           Traceback (most recent call last)",
      "Cell \u001b[1;32mIn[15], line 1\u001b[0m\n\u001b[1;32m----> 1\u001b[0m \u001b[43mdriver\u001b[49m\u001b[38;5;241;43m.\u001b[39;49m\u001b[43mfind_element\u001b[49m\u001b[43m(\u001b[49m\u001b[43mBy\u001b[49m\u001b[38;5;241;43m.\u001b[39;49m\u001b[43mXPATH\u001b[49m\u001b[43m,\u001b[49m\u001b[43m \u001b[49m\u001b[38;5;124;43m'\u001b[39;49m\u001b[38;5;124;43m//div[@class=\u001b[39;49m\u001b[38;5;124;43m\"\u001b[39;49m\u001b[38;5;124;43mproduct-buttonmain\u001b[39;49m\u001b[38;5;124;43m\"\u001b[39;49m\u001b[38;5;124;43m]/div/span\u001b[39;49m\u001b[38;5;124;43m'\u001b[39;49m\u001b[43m)\u001b[49m\u001b[38;5;241;43m.\u001b[39;49m\u001b[43mclick\u001b[49m\u001b[43m(\u001b[49m\u001b[43m)\u001b[49m\n",
      "File \u001b[1;32m~\\AppData\\Roaming\\Python\\Python39\\site-packages\\selenium\\webdriver\\remote\\webelement.py:93\u001b[0m, in \u001b[0;36mWebElement.click\u001b[1;34m(self)\u001b[0m\n\u001b[0;32m     91\u001b[0m \u001b[38;5;28;01mdef\u001b[39;00m \u001b[38;5;21mclick\u001b[39m(\u001b[38;5;28mself\u001b[39m) \u001b[38;5;241m-\u001b[39m\u001b[38;5;241m>\u001b[39m \u001b[38;5;28;01mNone\u001b[39;00m:\n\u001b[0;32m     92\u001b[0m     \u001b[38;5;124;03m\"\"\"Clicks the element.\"\"\"\u001b[39;00m\n\u001b[1;32m---> 93\u001b[0m     \u001b[38;5;28;43mself\u001b[39;49m\u001b[38;5;241;43m.\u001b[39;49m\u001b[43m_execute\u001b[49m\u001b[43m(\u001b[49m\u001b[43mCommand\u001b[49m\u001b[38;5;241;43m.\u001b[39;49m\u001b[43mCLICK_ELEMENT\u001b[49m\u001b[43m)\u001b[49m\n",
      "File \u001b[1;32m~\\AppData\\Roaming\\Python\\Python39\\site-packages\\selenium\\webdriver\\remote\\webelement.py:394\u001b[0m, in \u001b[0;36mWebElement._execute\u001b[1;34m(self, command, params)\u001b[0m\n\u001b[0;32m    392\u001b[0m     params \u001b[38;5;241m=\u001b[39m {}\n\u001b[0;32m    393\u001b[0m params[\u001b[38;5;124m\"\u001b[39m\u001b[38;5;124mid\u001b[39m\u001b[38;5;124m\"\u001b[39m] \u001b[38;5;241m=\u001b[39m \u001b[38;5;28mself\u001b[39m\u001b[38;5;241m.\u001b[39m_id\n\u001b[1;32m--> 394\u001b[0m \u001b[38;5;28;01mreturn\u001b[39;00m \u001b[38;5;28;43mself\u001b[39;49m\u001b[38;5;241;43m.\u001b[39;49m\u001b[43m_parent\u001b[49m\u001b[38;5;241;43m.\u001b[39;49m\u001b[43mexecute\u001b[49m\u001b[43m(\u001b[49m\u001b[43mcommand\u001b[49m\u001b[43m,\u001b[49m\u001b[43m \u001b[49m\u001b[43mparams\u001b[49m\u001b[43m)\u001b[49m\n",
      "File \u001b[1;32m~\\AppData\\Roaming\\Python\\Python39\\site-packages\\selenium\\webdriver\\remote\\webdriver.py:344\u001b[0m, in \u001b[0;36mWebDriver.execute\u001b[1;34m(self, driver_command, params)\u001b[0m\n\u001b[0;32m    342\u001b[0m response \u001b[38;5;241m=\u001b[39m \u001b[38;5;28mself\u001b[39m\u001b[38;5;241m.\u001b[39mcommand_executor\u001b[38;5;241m.\u001b[39mexecute(driver_command, params)\n\u001b[0;32m    343\u001b[0m \u001b[38;5;28;01mif\u001b[39;00m response:\n\u001b[1;32m--> 344\u001b[0m     \u001b[38;5;28;43mself\u001b[39;49m\u001b[38;5;241;43m.\u001b[39;49m\u001b[43merror_handler\u001b[49m\u001b[38;5;241;43m.\u001b[39;49m\u001b[43mcheck_response\u001b[49m\u001b[43m(\u001b[49m\u001b[43mresponse\u001b[49m\u001b[43m)\u001b[49m\n\u001b[0;32m    345\u001b[0m     response[\u001b[38;5;124m\"\u001b[39m\u001b[38;5;124mvalue\u001b[39m\u001b[38;5;124m\"\u001b[39m] \u001b[38;5;241m=\u001b[39m \u001b[38;5;28mself\u001b[39m\u001b[38;5;241m.\u001b[39m_unwrap_value(response\u001b[38;5;241m.\u001b[39mget(\u001b[38;5;124m\"\u001b[39m\u001b[38;5;124mvalue\u001b[39m\u001b[38;5;124m\"\u001b[39m, \u001b[38;5;28;01mNone\u001b[39;00m))\n\u001b[0;32m    346\u001b[0m     \u001b[38;5;28;01mreturn\u001b[39;00m response\n",
      "File \u001b[1;32m~\\AppData\\Roaming\\Python\\Python39\\site-packages\\selenium\\webdriver\\remote\\errorhandler.py:229\u001b[0m, in \u001b[0;36mErrorHandler.check_response\u001b[1;34m(self, response)\u001b[0m\n\u001b[0;32m    227\u001b[0m         alert_text \u001b[38;5;241m=\u001b[39m value[\u001b[38;5;124m\"\u001b[39m\u001b[38;5;124malert\u001b[39m\u001b[38;5;124m\"\u001b[39m]\u001b[38;5;241m.\u001b[39mget(\u001b[38;5;124m\"\u001b[39m\u001b[38;5;124mtext\u001b[39m\u001b[38;5;124m\"\u001b[39m)\n\u001b[0;32m    228\u001b[0m     \u001b[38;5;28;01mraise\u001b[39;00m exception_class(message, screen, stacktrace, alert_text)  \u001b[38;5;66;03m# type: ignore[call-arg]  # mypy is not smart enough here\u001b[39;00m\n\u001b[1;32m--> 229\u001b[0m \u001b[38;5;28;01mraise\u001b[39;00m exception_class(message, screen, stacktrace)\n",
      "\u001b[1;31mElementNotInteractableException\u001b[0m: Message: element not interactable\n  (Session info: chrome=117.0.5938.89)\nStacktrace:\n\tGetHandleVerifier [0x00007FF7CBFC78A2+54818]\n\t(No symbol) [0x00007FF7CBF36AD2]\n\t(No symbol) [0x00007FF7CBDED8ED]\n\t(No symbol) [0x00007FF7CBE2F8E5]\n\t(No symbol) [0x00007FF7CBE2571F]\n\t(No symbol) [0x00007FF7CBE4EAAA]\n\t(No symbol) [0x00007FF7CBE25036]\n\t(No symbol) [0x00007FF7CBE4ECC0]\n\t(No symbol) [0x00007FF7CBE675A2]\n\t(No symbol) [0x00007FF7CBE4E883]\n\t(No symbol) [0x00007FF7CBE23691]\n\t(No symbol) [0x00007FF7CBE248D4]\n\tGetHandleVerifier [0x00007FF7CC32B9A2+3610402]\n\tGetHandleVerifier [0x00007FF7CC381870+3962352]\n\tGetHandleVerifier [0x00007FF7CC379D5F+3930847]\n\tGetHandleVerifier [0x00007FF7CC063656+693206]\n\t(No symbol) [0x00007FF7CBF41638]\n\t(No symbol) [0x00007FF7CBF3D944]\n\t(No symbol) [0x00007FF7CBF3DA72]\n\t(No symbol) [0x00007FF7CBF2E123]\n\tBaseThreadInitThunk [0x00007FFD61547344+20]\n\tRtlUserThreadStart [0x00007FFD627A26B1+33]\n"
     ]
    }
   ],
   "source": [
    "driver.find_element(By.XPATH, '//div[@class=\"product-buttonmain\"]/div/span').click()"
   ]
  },
  {
   "cell_type": "code",
   "execution_count": 17,
   "metadata": {
    "collapsed": true,
    "jupyter": {
     "outputs_hidden": true
    },
    "tags": []
   },
   "outputs": [
    {
     "ename": "KeyboardInterrupt",
     "evalue": "",
     "output_type": "error",
     "traceback": [
      "\u001b[1;31m---------------------------------------------------------------------------\u001b[0m",
      "\u001b[1;31mKeyboardInterrupt\u001b[0m                         Traceback (most recent call last)",
      "Cell \u001b[1;32mIn[17], line 2\u001b[0m\n\u001b[0;32m      1\u001b[0m \u001b[38;5;28;01mwhile\u001b[39;00m \u001b[38;5;28;01mTrue\u001b[39;00m:\n\u001b[1;32m----> 2\u001b[0m     now \u001b[38;5;241m=\u001b[39m datetime\u001b[38;5;241m.\u001b[39mdatetime\u001b[38;5;241m.\u001b[39mnow()\u001b[38;5;241m.\u001b[39mstrftime(\u001b[38;5;124m\"\u001b[39m\u001b[38;5;124m%\u001b[39m\u001b[38;5;124mY-\u001b[39m\u001b[38;5;124m%\u001b[39m\u001b[38;5;124mm-\u001b[39m\u001b[38;5;132;01m%d\u001b[39;00m\u001b[38;5;124m \u001b[39m\u001b[38;5;124m%\u001b[39m\u001b[38;5;124mH:\u001b[39m\u001b[38;5;124m%\u001b[39m\u001b[38;5;124mM:\u001b[39m\u001b[38;5;124m%\u001b[39m\u001b[38;5;124mS.\u001b[39m\u001b[38;5;132;01m%f\u001b[39;00m\u001b[38;5;124m\"\u001b[39m)\n\u001b[0;32m      3\u001b[0m     \u001b[38;5;66;03m# print(now)\u001b[39;00m\n\u001b[0;32m      4\u001b[0m     \u001b[38;5;28;01mif\u001b[39;00m now \u001b[38;5;241m>\u001b[39m times:\n",
      "\u001b[1;31mKeyboardInterrupt\u001b[0m: "
     ]
    }
   ],
   "source": [
    "while True:\n",
    "    now = datetime.datetime.now().strftime(\"%Y-%m-%d %H:%M:%S.%f\")\n",
    "    # print(now)\n",
    "    if now > times:\n",
    "        while 1==1:\n",
    "            try:\n",
    "                driver.find_element(By.XPATH, '//div[@class=\"product-buttonmain\"]/div/span').click()\n",
    "                button = driver.find_element(By.XPATH, '//div[@class=\"product-buttonmain\"]/div/span[@class=\"product-button02 product-agreement-style\"]')\n",
    "                driver.execute_script(\"arguments[0].click();\", button)\n",
    "                print(\"抢到啦！！！\")\n",
    "                break\n",
    "            except:\n",
    "                pass    "
   ]
  },
  {
   "cell_type": "code",
   "execution_count": null,
   "metadata": {},
   "outputs": [],
   "source": []
  },
  {
   "cell_type": "code",
   "execution_count": null,
   "metadata": {},
   "outputs": [],
   "source": []
  },
  {
   "cell_type": "code",
   "execution_count": null,
   "metadata": {},
   "outputs": [],
   "source": []
  },
  {
   "cell_type": "code",
   "execution_count": null,
   "metadata": {},
   "outputs": [],
   "source": []
  },
  {
   "cell_type": "code",
   "execution_count": null,
   "metadata": {},
   "outputs": [],
   "source": []
  },
  {
   "cell_type": "code",
   "execution_count": null,
   "metadata": {},
   "outputs": [],
   "source": []
  },
  {
   "cell_type": "code",
   "execution_count": null,
   "metadata": {},
   "outputs": [],
   "source": []
  }
 ],
 "metadata": {
  "kernelspec": {
   "display_name": "Python 3 (ipykernel)",
   "language": "python",
   "name": "python3"
  },
  "language_info": {
   "codemirror_mode": {
    "name": "ipython",
    "version": 3
   },
   "file_extension": ".py",
   "mimetype": "text/x-python",
   "name": "python",
   "nbconvert_exporter": "python",
   "pygments_lexer": "ipython3",
   "version": "3.9.13"
  }
 },
 "nbformat": 4,
 "nbformat_minor": 4
}
